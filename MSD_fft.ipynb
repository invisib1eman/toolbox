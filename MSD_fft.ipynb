{
 "cells": [
  {
   "cell_type": "code",
   "execution_count": 1,
   "metadata": {},
   "outputs": [],
   "source": [
    "import numpy as np\n",
    "import pandas as pd\n",
    "import random\n",
    "import matplotlib.pyplot as plt\n",
    "import gsd.hoomd"
   ]
  },
  {
   "cell_type": "code",
   "execution_count": 2,
   "metadata": {},
   "outputs": [],
   "source": [
    "def msd_straight_forward(r):\n",
    "    shifts = np.arange(len(r))\n",
    "    msds = np.zeros(shifts.size)    \n",
    "\n",
    "    for i, shift in enumerate(shifts):\n",
    "        diffs = r[:-shift if shift else None] - r[shift:]\n",
    "        sqdist = np.square(diffs).sum(axis=1)\n",
    "        msds[i] = sqdist.mean()\n",
    "\n",
    "    return msds"
   ]
  },
  {
   "cell_type": "code",
   "execution_count": 3,
   "metadata": {},
   "outputs": [],
   "source": [
    "r = np.cumsum(np.random.choice([-1., 0., 1.], size=(10000, 3)), axis=0)\n"
   ]
  },
  {
   "cell_type": "code",
   "execution_count": 4,
   "metadata": {},
   "outputs": [],
   "source": [
    "def autocorrFFT(x):\n",
    "      N=len(x)\n",
    "      F = np.fft.fft(x, n=2*N)  #2*N because of zero-padding\n",
    "      PSD = F * F.conjugate()\n",
    "      res = np.fft.ifft(PSD)\n",
    "      res= (res[:N]).real   #now we have the autocorrelation in convention B\n",
    "      n=N*np.ones(N)-np.arange(0,N) #divide res(m) by (N-m)\n",
    "      return res/n #this is the autocorrelation in convention A"
   ]
  },
  {
   "cell_type": "code",
   "execution_count": 5,
   "metadata": {},
   "outputs": [
    {
     "data": {
      "text/plain": [
       "array([225.       +0.j, 145.2820323+0.j,  36.       +0.j,  13.       +0.j,\n",
       "        12.       +0.j,   6.7179677+0.j,   9.       +0.j,   6.7179677+0.j,\n",
       "        12.       +0.j,  13.       +0.j,  36.       +0.j, 145.2820323+0.j])"
      ]
     },
     "execution_count": 5,
     "metadata": {},
     "output_type": "execute_result"
    }
   ],
   "source": [
    "x=[0,1,2,3,4,5]\n",
    "N=len(x)\n",
    "F=np.fft.fft(x, n=2*N)\n",
    "F * F.conjugate()\n"
   ]
  },
  {
   "cell_type": "code",
   "execution_count": 6,
   "metadata": {},
   "outputs": [],
   "source": [
    "def msd_fft(r):\n",
    "    N=len(r)\n",
    "    D=np.square(r).sum(axis=1) \n",
    "    D=np.append(D,0) \n",
    "    S2=sum([autocorrFFT(r[:, i]) for i in range(r.shape[1])])\n",
    "    Q=2*D.sum()\n",
    "    S1=np.zeros(N)\n",
    "    for m in range(N):\n",
    "        Q=Q-D[m-1]-D[N-m]\n",
    "        S1[m]=Q/(N-m)\n",
    "    return S1-2*S2"
   ]
  },
  {
   "cell_type": "code",
   "execution_count": 7,
   "metadata": {},
   "outputs": [],
   "source": [
    "def unwrap(box,trajectory):\n",
    "    step_number=trajectory.shape[0]\n",
    "    Lx=box[0]\n",
    "    Ly=box[1]\n",
    "    Lz=box[2]\n",
    "    new_trajectory=np.zeros(trajectory.shape)\n",
    "    new_trajectory[0]=trajectory[0]\n",
    "    for i in range(1,step_number):\n",
    "        movement=trajectory[i]-trajectory[i-1]\n",
    "        if movement[0]<-Lx/2:\n",
    "            movement[0]+=Lx\n",
    "        if movement[0]>Lx/2:\n",
    "            movement[0]-=Lx\n",
    "        if movement[1]<-Ly/2:\n",
    "            movement[1]+=Ly\n",
    "        if movement[1]>Ly/2:\n",
    "            movement[1]-=Ly            \n",
    "        if movement[2]<-Lz/2:\n",
    "            movement[2]+=Lz\n",
    "        if movement[2]>Lz/2:\n",
    "            movement[2]-=Lz\n",
    "        new_trajectory[i]=new_trajectory[i-1]+movement\n",
    "    return new_trajectory"
   ]
  },
  {
   "cell_type": "code",
   "execution_count": 8,
   "metadata": {},
   "outputs": [],
   "source": [
    "class traj:\n",
    "    def __init__(self, box_size, positions,velocities,types):\n",
    "        self.box_size =box_size\n",
    "        self.positions=positions\n",
    "        self.velocities=velocities\n",
    "        self.types=types\n",
    "        \n"
   ]
  },
  {
   "cell_type": "code",
   "execution_count": 9,
   "metadata": {},
   "outputs": [],
   "source": [
    "def read_lammpstrj(filename,N_particles):\n",
    "    f=open(filename)\n",
    "    Lines=f.readlines()\n",
    "    n_timestep=int(len(Lines)/(N_particles+9))\n",
    "    box_size=np.zeros((n_timestep,3))\n",
    "    positions=np.zeros((n_timestep,N_particles,3))\n",
    "    velocities=np.zeros((n_timestep,N_particles,3))\n",
    "    types=np.zeros((n_timestep,N_particles))\n",
    "    count = 0\n",
    "\n",
    "    for line in Lines:\n",
    "        n_t=int(count/(N_particles+9))\n",
    "        separate=line.split()\n",
    "        if count%(9+N_particles)==5:\n",
    "            box_size[n_t][0]=float(separate[1])-float(separate[0])\n",
    "        if count%(9+N_particles)==6:\n",
    "            box_size[n_t][1]=float(separate[1])-float(separate[0])\n",
    "        if count%(9+N_particles)==7:\n",
    "            box_size[n_t][2]=float(separate[1])-float(separate[0])\n",
    "        if count%(9+N_particles)>=9:\n",
    "            n_p=int(separate[0])-1\n",
    "            types[n_t][n_p]=float(separate[2])\n",
    "            positions[n_t][n_p][0]=float(separate[4])\n",
    "            positions[n_t][n_p][1]=float(separate[5])\n",
    "            positions[n_t][n_p][2]=float(separate[6])\n",
    "            velocities[n_t][n_p][0]=float(separate[7])\n",
    "            velocities[n_t][n_p][1]=float(separate[8])\n",
    "            velocities[n_t][n_p][2]=float(separate[9])\n",
    "        count+=1\n",
    "    return traj(box_size=box_size,positions=positions,velocities=velocities,types=types)"
   ]
  },
  {
   "cell_type": "code",
   "execution_count": 11,
   "metadata": {},
   "outputs": [],
   "source": [
    "a=read_lammpstrj('chargegel_diffuse_2.lammpstrj',20000)"
   ]
  },
  {
   "cell_type": "code",
   "execution_count": 12,
   "metadata": {},
   "outputs": [],
   "source": [
    "positions=a.positions"
   ]
  },
  {
   "cell_type": "code",
   "execution_count": 13,
   "metadata": {},
   "outputs": [],
   "source": [
    "types=a.types[0]"
   ]
  },
  {
   "cell_type": "code",
   "execution_count": 14,
   "metadata": {},
   "outputs": [],
   "source": [
    "positions=np.swapaxes(positions,0,1)"
   ]
  },
  {
   "cell_type": "code",
   "execution_count": 15,
   "metadata": {},
   "outputs": [
    {
     "data": {
      "text/plain": [
       "(20000, 101, 3)"
      ]
     },
     "execution_count": 15,
     "metadata": {},
     "output_type": "execute_result"
    }
   ],
   "source": [
    "positions.shape"
   ]
  },
  {
   "cell_type": "code",
   "execution_count": 16,
   "metadata": {},
   "outputs": [],
   "source": [
    "box=a.box_size[0]"
   ]
  },
  {
   "cell_type": "code",
   "execution_count": 17,
   "metadata": {},
   "outputs": [
    {
     "data": {
      "text/plain": [
       "array([100., 100., 100.])"
      ]
     },
     "execution_count": 17,
     "metadata": {},
     "output_type": "execute_result"
    }
   ],
   "source": [
    "box"
   ]
  },
  {
   "cell_type": "code",
   "execution_count": 18,
   "metadata": {},
   "outputs": [],
   "source": [
    "msd=0\n",
    "for i in positions:\n",
    "    unwraped=unwrap(box,i)\n",
    "    msd=msd+msd_fft(unwraped)"
   ]
  },
  {
   "cell_type": "code",
   "execution_count": 19,
   "metadata": {},
   "outputs": [
    {
     "data": {
      "text/plain": [
       "[<matplotlib.lines.Line2D at 0x7fd0d6cd9e20>]"
      ]
     },
     "execution_count": 19,
     "metadata": {},
     "output_type": "execute_result"
    },
    {
     "data": {
      "image/png": "[encoded data removed]",
      "text/plain": [
       "<Figure size 640x480 with 1 Axes>"
      ]
     },
     "metadata": {},
     "output_type": "display_data"
    }
   ],
   "source": [
    "plt.plot(msd)\n"
   ]
  },
  {
   "cell_type": "code",
   "execution_count": 20,
   "metadata": {},
   "outputs": [
    {
     "data": {
      "text/plain": [
       "(101,)"
      ]
     },
     "execution_count": 20,
     "metadata": {},
     "output_type": "execute_result"
    }
   ],
   "source": [
    "msd.shape"
   ]
  },
  {
   "cell_type": "code",
   "execution_count": 21,
   "metadata": {},
   "outputs": [],
   "source": [
    "time=np.array([i for i in range(0,101)])"
   ]
  },
  {
   "cell_type": "code",
   "execution_count": 22,
   "metadata": {},
   "outputs": [
    {
     "data": {
      "text/plain": [
       "(101,)"
      ]
     },
     "execution_count": 22,
     "metadata": {},
     "output_type": "execute_result"
    }
   ],
   "source": [
    "time.shape"
   ]
  },
  {
   "cell_type": "code",
   "execution_count": 23,
   "metadata": {},
   "outputs": [
    {
     "name": "stdout",
     "output_type": "stream",
     "text": [
      "Diffusion coefficient 0.9553697978735814\n"
     ]
    }
   ],
   "source": [
    "#msd=6Dt,divided by particle numbers,timestep=10tau, and 6\n",
    "print(f\"Diffusion coefficient {np.polynomial.polynomial.polyfit(time,msd,deg=1)[1]/(6*20000*10)}\")"
   ]
  },
  {
   "cell_type": "code",
   "execution_count": 69,
   "metadata": {},
   "outputs": [
    {
     "data": {
      "text/plain": [
       "8.4117"
      ]
     },
     "execution_count": 69,
     "metadata": {},
     "output_type": "execute_result"
    }
   ],
   "source": [
    "252351/(5000*6)\n",
    "\n"
   ]
  },
  {
   "cell_type": "code",
   "execution_count": null,
   "metadata": {},
   "outputs": [],
   "source": []
  }
 ],
 "metadata": {
  "kernelspec": {
   "display_name": "Python 3",
   "language": "python",
   "name": "python3"
  },
  "language_info": {
   "codemirror_mode": {
    "name": "ipython",
    "version": 3
   },
   "file_extension": ".py",
   "mimetype": "text/x-python",
   "name": "python",
   "nbconvert_exporter": "python",
   "pygments_lexer": "ipython3",
   "version": "3.8.19"
  }
 },
 "nbformat": 4,
 "nbformat_minor": 2
}
